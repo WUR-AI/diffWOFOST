{
 "cells": [
  {
   "cell_type": "markdown",
   "id": "c784f1c2-d477-464d-a35f-f2c64e96fb10",
   "metadata": {},
   "source": [
    "<div style=\"display: flex; align-items: center;\">\n",
    "    <h1>Optimizing parameters in a WOFOST crop model using <code>diffWOFOST</code></h1>\n",
    "    <img src=\"https://raw.githubusercontent.com/WUR-AI/diffWOFOST/refs/heads/main/docs/logo/diffwofost.png\" width=\"150\" style=\"margin-left: 20px;\">\n",
    "</div>\n",
    "\n",
    "In this Jupyter notebook we will demonstrate how to optimize parameters in a\n",
    "differentiable model. There are two sections:\n",
    "1. Leaf dynamics\n",
    "2. Root dynamics"
   ]
  },
  {
   "cell_type": "markdown",
   "id": "41262fbd-270b-4616-91ad-09ee82451604",
   "metadata": {},
   "source": [
    "## 1. Leaf dynamics\n",
    "\n",
    "In this section, we will demonstrate how to optimize two parameters `TWDI` and `SPAN` in\n",
    "leaf_dynamics model using a differentiable version of leaf_dynamics.\n",
    "The optimization will be done using the Adam optimizer from `torch.optim`."
   ]
  },
  {
   "cell_type": "markdown",
   "id": "9c8e6781-4324-419b-ae7a-20112e80c85c",
   "metadata": {},
   "source": [
    "### 1.1 software requirements\n",
    "\n",
    "To run this notebook, we need to install the `diffwofost`; the diffrentiable\n",
    "version of WOFOST models. Since the package is constantly under development, make\n",
    "sure you have the latest version of `diffwofost` installed in your\n",
    "python environment. You can install it using pip:\n",
    "\n",
    "```bash\n",
    "pip install diffwofost\n",
    "```"
   ]
  },
  {
   "cell_type": "code",
   "execution_count": 1,
   "id": "21731653-3976-4bb9-b83b-b11d78211700",
   "metadata": {},
   "outputs": [],
   "source": [
    "# ---- import libraries ----\n",
    "import copy\n",
    "import torch\n",
    "import numpy\n",
    "import yaml\n",
    "from pathlib import Path\n",
    "from diffwofost.physical_models.utils import EngineTestHelper\n",
    "from diffwofost.physical_models.utils import prepare_engine_input"
   ]
  },
  {
   "cell_type": "code",
   "execution_count": 2,
   "id": "82a1ef6b-336e-4902-8bd1-2a1ed2020f9d",
   "metadata": {},
   "outputs": [],
   "source": [
    "# ---- disable a warning: this will be fixed in the future ----\n",
    "import warnings\n",
    "warnings.filterwarnings(\"ignore\", message=\"To copy construct from a tensor.*\")"
   ]
  },
  {
   "cell_type": "markdown",
   "id": "439b2672-8a57-41f3-b9c7-e703041d41e9",
   "metadata": {},
   "source": [
    "### 1.2. Data\n",
    "\n",
    "A test dataset of `LAI` (Leaf area index, including stem and pod area) and\n",
    "`TWLV` (Dry weight of total leaves (living + dead)) will be used to optimize\n",
    "parametesr `TWDI` (total initial dry weight) and `SPAN` (life span of leaves).\n",
    "\n",
    "The data is stored in PCSE tests folder, and can be doewnloded from PCSE repsository.\n",
    "You can select any of the files related to `leaf_dynamics` model with a file name that follwos the pattern\n",
    "`test_leafdynamics_wofost72_*.yaml`. Each file contains different data depending on the locatin and crop type.\n",
    "For example, you can download the file \"test_leafdynamics_wofost72_01.yaml\" as:\n",
    "\n",
    "```bash\n",
    "wget https://raw.githubusercontent.com/ajwdewit/pcse/refs/heads/master/tests/test_data/test_leafdynamics_wofost72_01.yaml\n",
    "```\n",
    "\n",
    "We also need to download a config file to be able to run each crop module. This will change in the future versions. To donwload the config file, you can use the following command:\n",
    "\n",
    "```bash\n",
    "wget https://raw.githubusercontent.com/WUR-AI/diffWOFOST/refs/heads/main/tests/physical_models/test_data/WOFOST_Leaf_Dynamics.conf\n",
    "```"
   ]
  },
  {
   "cell_type": "code",
   "execution_count": 3,
   "id": "2338ecde-e0b3-4306-a245-965a86570575",
   "metadata": {},
   "outputs": [],
   "source": [
    "# ---- Check the path to the files that are downloaded as explained above ----\n",
    "test_data_path = \"test_leafdynamics_wofost72_01.yaml\"\n",
    "config_path = \"WOFOST_Leaf_Dynamics.conf\""
   ]
  },
  {
   "cell_type": "code",
   "execution_count": 4,
   "id": "9f3105fb-4fbe-4405-9fd4-e8255b4b119e",
   "metadata": {},
   "outputs": [],
   "source": [
    "# ---- Here we read the test data ans et some variables ----\n",
    "(crop_model_params_provider, weather_data_provider, agro_management_inputs, external_states) = (\n",
    "    prepare_engine_input(test_data_path, [\"SPAN\", \"TDWI\", \"TBASE\", \"PERDL\", \"RGRLAI\"])\n",
    ")\n",
    "\n",
    "expected_results = yaml.safe_load(open(test_data_path))[\"ModelResults\"]\n",
    "expected_lai_twlv = torch.tensor(\n",
    "    [[float(item[\"LAI\"]), float(item[\"TWLV\"])] for item in expected_results], dtype=torch.float32\n",
    ").unsqueeze(0) # shape: [1, time_steps, 2]\n",
    "\n",
    "# ---- dont change this: in this config file we specified the diffrentiable version of leaf_dynamics ----\n",
    "config_path = str(Path(config_path).resolve()) "
   ]
  },
  {
   "cell_type": "markdown",
   "id": "52b19ae2-3fe6-4b3f-95a7-aea07a2c0958",
   "metadata": {},
   "source": [
    "### 1.3. Helper classes/functions\n",
    "\n",
    "The model parameters shoudl stay in a valid range. To ensure this, we will use\n",
    "`BoundedParameter` class with (min, max) and initial values for each\n",
    "parameter. You might change these values depending on the crop type and\n",
    "location. But dont use a very small range, otherwise gradiants will be very\n",
    "small and the optimization will be very slow."
   ]
  },
  {
   "cell_type": "code",
   "execution_count": 5,
   "id": "e4610238-de0d-42cf-9689-3c074eb2cc0e",
   "metadata": {},
   "outputs": [],
   "source": [
    "# ---- Adjust the values if needed  ----\n",
    "TDWI_MIN, TDWI_MAX, TDWI_INIT = (0.0, 1.0, 0.40)\n",
    "SPAN_MIN, SPAN_MAX, SPAN_INIT = (10.0, 60.0, 20.0)\n",
    "\n",
    "# ---- Helper for bounded parameters ----\n",
    "class BoundedParameter(torch.nn.Module):\n",
    "    def __init__(self, low, high, init_value):\n",
    "        super().__init__()\n",
    "        self.low = low\n",
    "        self.high = high\n",
    "\n",
    "        # Normalize to [0, 1]\n",
    "        init_norm = (init_value - low) / (high - low)\n",
    "\n",
    "        # Clamp to avoid logit infinities\n",
    "        init_norm = torch.clamp(\n",
    "            torch.tensor(init_norm, dtype=torch.float32),\n",
    "            1e-6, 1 - 1e-6\n",
    "        )\n",
    "\n",
    "        # Parameter in raw logit space\n",
    "        self.raw = torch.nn.Parameter(torch.logit(init_norm))\n",
    "\n",
    "    def forward(self):\n",
    "        return self.low + (self.high - self.low) * torch.sigmoid(self.raw)\n"
   ]
  },
  {
   "cell_type": "markdown",
   "id": "153e4306-77ed-4278-8797-a04e637e12c8",
   "metadata": {},
   "source": [
    "Another helper class is OptDiffLeafDynamics which is a subclass of torch.nn.Module. \n",
    "We use this class to wrap the leaf_dynamics model and make it easier to use with torch optimizers."
   ]
  },
  {
   "cell_type": "code",
   "execution_count": 6,
   "id": "36dd6463-4812-41c0-b2bf-d4769df1136f",
   "metadata": {},
   "outputs": [],
   "source": [
    "# ---- Wrap the model with torch.nn.Module----\n",
    "class OptDiffLeafDynamics(torch.nn.Module):\n",
    "    def __init__(self, crop_model_params_provider, weather_data_provider, agro_management_inputs, config_path, external_states):\n",
    "        super().__init__()\n",
    "        self.crop_model_params_provider = crop_model_params_provider\n",
    "        self.weather_data_provider = weather_data_provider\n",
    "        self.agro_management_inputs = agro_management_inputs\n",
    "        self.config_path = config_path\n",
    "        self.external_states = external_states\n",
    "\n",
    "        # bounded parameters\n",
    "        self.tdwi = BoundedParameter(TDWI_MIN, TDWI_MAX, init_value=TDWI_INIT)\n",
    "        self.span = BoundedParameter(SPAN_MIN, SPAN_MAX, init_value=SPAN_INIT)\n",
    "\n",
    "    def forward(self):\n",
    "        # currently, copying is needed due to an internal issue in engine\n",
    "        crop_model_params_provider_ = copy.deepcopy(self.crop_model_params_provider)\n",
    "        external_states_ = copy.deepcopy(self.external_states)\n",
    "        \n",
    "        tdwi_val = self.tdwi()\n",
    "        span_val = self.span()\n",
    "        \n",
    "        # pass new value of parameters to the model\n",
    "        crop_model_params_provider_.set_override(\"TDWI\", tdwi_val, check=False)\n",
    "        crop_model_params_provider_.set_override(\"SPAN\", span_val, check=False)\n",
    "\n",
    "        engine = EngineTestHelper(\n",
    "            crop_model_params_provider_,\n",
    "            self.weather_data_provider,\n",
    "            self.agro_management_inputs,\n",
    "            self.config_path,\n",
    "            external_states_,\n",
    "        )\n",
    "        engine.run_till_terminate()\n",
    "        results = engine.get_output()\n",
    "        \n",
    "        return torch.stack(\n",
    "            [torch.stack([item[\"LAI\"], item[\"TWLV\"]]) for item in results]\n",
    "        ).unsqueeze(0) # shape: [1, time_steps, 2]"
   ]
  },
  {
   "cell_type": "code",
   "execution_count": 7,
   "id": "0dcd85c8-624c-4b58-a7c9-893316110d98",
   "metadata": {},
   "outputs": [
    {
     "name": "stdout",
     "output_type": "stream",
     "text": [
      "Step 0, Loss 0.3969, TDWI 0.4242, SPAN 20.8240\n",
      "Step 10, Loss 0.1626, TDWI 0.4908, SPAN 29.9683\n",
      "Step 20, Loss 0.0677, TDWI 0.5133, SPAN 37.6622\n",
      "Step 30, Loss 0.0263, TDWI 0.5156, SPAN 33.6077\n",
      "Step 40, Loss 0.0658, TDWI 0.5150, SPAN 33.0349\n",
      "Step 50, Loss 0.0350, TDWI 0.5130, SPAN 35.7802\n",
      "Step 60, Loss 0.0226, TDWI 0.5010, SPAN 34.4072\n",
      "Step 70, Loss 0.0444, TDWI 0.5138, SPAN 36.6308\n",
      "Step 80, Loss 0.0692, TDWI 0.5059, SPAN 31.9481\n",
      "Step 90, Loss 0.1520, TDWI 0.4953, SPAN 29.3475\n",
      "Step 100, Loss 0.1420, TDWI 0.4981, SPAN 29.9158\n"
     ]
    }
   ],
   "source": [
    "# ----  Create model ---- \n",
    "opt_model = OptDiffLeafDynamics(\n",
    "    crop_model_params_provider,\n",
    "    weather_data_provider,\n",
    "    agro_management_inputs,\n",
    "    config_path,\n",
    "    external_states,\n",
    ")\n",
    "\n",
    "# ----  Optimizer ---- \n",
    "optimizer = torch.optim.Adam(opt_model.parameters(), lr=0.1)\n",
    "\n",
    "# ----  We use relative MAE as loss because there are two outputs with different untis ----  \n",
    "denom = torch.mean(torch.abs(expected_lai_twlv), dim=1) \n",
    "\n",
    "# Training loop (example)\n",
    "for step in range(101):\n",
    "    optimizer.zero_grad()\n",
    "    results = opt_model() \n",
    "    mae = torch.mean(torch.abs(results - expected_lai_twlv), dim=1)\n",
    "    rmae = mae / denom\n",
    "    loss = rmae.sum()  # example: relative mean absolute error\n",
    "    loss.backward()\n",
    "    optimizer.step()\n",
    "\n",
    "    if step % 10 == 0:\n",
    "        print(f\"Step {step}, Loss {loss.item():.4f}, TDWI {opt_model.tdwi().item():.4f}, SPAN {opt_model.span().item():.4f}\")"
   ]
  },
  {
   "cell_type": "code",
   "execution_count": 8,
   "id": "c2d3a463-43a4-4b29-a71f-696c019343d3",
   "metadata": {},
   "outputs": [
    {
     "name": "stdout",
     "output_type": "stream",
     "text": [
      "Actual TDWI 0.5100, SPAN 35.0000\n"
     ]
    }
   ],
   "source": [
    "# ---- validate the results using test data ---- \n",
    "print(f\"Actual TDWI {crop_model_params_provider[\"TDWI\"].item():.4f}, SPAN {crop_model_params_provider[\"SPAN\"].item():.4f}\")"
   ]
  },
  {
   "cell_type": "markdown",
   "id": "fedda7e9-02a6-40e5-8c61-08d7886c9519",
   "metadata": {},
   "source": [
    "## 2. Root dynamics \n",
    "\n",
    "In this section, we will demonstrate how to optimize two parameters `TWDI` in\n",
    "root_dynamics model using a differentiable version of root_dynamics.\n",
    "The optimization will be done using the Adam optimizer from `torch.optim`."
   ]
  },
  {
   "cell_type": "markdown",
   "id": "152ec514-baf1-4213-b98b-76f453d49538",
   "metadata": {},
   "source": [
    "### 2.1 software requirements\n",
    "\n",
    "To run this notebook, we need to install the `diffwofost`; the diffrentiable\n",
    "version of WOFOST models. Since the package is constantly under development, make\n",
    "sure you have the latest version of `diffwofost` installed in your\n",
    "python environment. You can install it using pip:\n",
    "\n",
    "```bash\n",
    "pip install diffwofost\n",
    "```"
   ]
  },
  {
   "cell_type": "code",
   "execution_count": 9,
   "id": "eaa4c172-9719-4a79-b2f2-d37ea5b6f11d",
   "metadata": {},
   "outputs": [],
   "source": [
    "# ---- import libraries ----\n",
    "import copy\n",
    "import torch\n",
    "import numpy\n",
    "import yaml\n",
    "from pathlib import Path\n",
    "from diffwofost.physical_models.utils import EngineTestHelper\n",
    "from diffwofost.physical_models.utils import prepare_engine_input"
   ]
  },
  {
   "cell_type": "code",
   "execution_count": 10,
   "id": "26437aed-755d-4ee3-b7b6-82caf8c30ec5",
   "metadata": {},
   "outputs": [],
   "source": [
    "# ---- disable a warning: this will be fixed in the future ----\n",
    "import warnings\n",
    "warnings.filterwarnings(\"ignore\", message=\"To copy construct from a tensor.*\")"
   ]
  },
  {
   "cell_type": "markdown",
   "id": "4c9a11dc-5fc9-45f7-93b2-8f9255da7885",
   "metadata": {},
   "source": [
    "### 2.2. Data\n",
    "\n",
    "A test dataset of `RD` (Current rooting depth) and\n",
    "`TWRT` (Total weight of roots) will be used to optimize\n",
    "parametesr `TWDI` (total initial dry weight).\n",
    "\n",
    "The data is stored in PCSE tests folder, and can be doewnloded from PCSE repsository.\n",
    "You can select any of the files related to `root_dynamics` model with a file name that follwos the pattern\n",
    "`test_rootdynamics_wofost72_*.yaml`. Each file contains different data depending on the locatin and crop type.\n",
    "For example, you can download the file \"test_rootdynamics_wofost72_01.yaml\" as:\n",
    "\n",
    "```bash\n",
    "wget https://raw.githubusercontent.com/ajwdewit/pcse/refs/heads/master/tests/test_data/test_rootdynamics_wofost72_01.yaml\n",
    "```\n",
    "\n",
    "We also need to download a config file to be able to run each crop module. This will change in the future versions. To donwload the config file, you can use the following command:\n",
    "\n",
    "```bash\n",
    "wget https://raw.githubusercontent.com/WUR-AI/diffWOFOST/refs/heads/main/tests/physical_models/test_data/WOFOST_Root_Dynamics.conf\n",
    "```"
   ]
  },
  {
   "cell_type": "code",
   "execution_count": 11,
   "id": "a69e9279-49eb-4136-8f15-7cff8bb4af52",
   "metadata": {},
   "outputs": [],
   "source": [
    "# ---- Check the path to the files that are downloaded as explained above ----\n",
    "test_data_path = \"test_rootdynamics_wofost72_01.yaml\"\n",
    "config_path = \"WOFOST_Root_Dynamics.conf\""
   ]
  },
  {
   "cell_type": "code",
   "execution_count": 12,
   "id": "9232b26a-1382-4643-9ca2-771f3fef671a",
   "metadata": {},
   "outputs": [],
   "source": [
    "# ---- Here we read the test data ans et some variables ----\n",
    "(crop_model_params_provider, weather_data_provider, agro_management_inputs, external_states) = (\n",
    "    prepare_engine_input(test_data_path, [\"RDI\", \"RRI\", \"RDMCR\", \"RDMSOL\", \"TDWI\", \"IAIRDU\"])\n",
    ")\n",
    "\n",
    "expected_results = yaml.safe_load(open(test_data_path))[\"ModelResults\"]\n",
    "expected_rd_twrt = torch.tensor(\n",
    "    [[float(item[\"RD\"]), float(item[\"TWRT\"])] for item in expected_results], dtype=torch.float32\n",
    ").unsqueeze(0) # shape: [1, time_steps, 2]\n",
    "\n",
    "# ---- dont change this: in this config file we specified the diffrentiable version of root_dynamics ----\n",
    "config_path = str(Path(config_path).resolve()) "
   ]
  },
  {
   "cell_type": "markdown",
   "id": "d1cef2bd-e42b-4edb-b9b5-b367f776336b",
   "metadata": {},
   "source": [
    "### 2.3. Helper classes/functions\n",
    "\n",
    "The model parameters shoudl stay in a valid range. To ensure this, we will use\n",
    "`BoundedParameter` class with (min, max) and initial values for each\n",
    "parameter. You might change these values depending on the crop type and\n",
    "location. But dont use a very small range, otherwise gradiants will be very\n",
    "small and the optimization will be very slow."
   ]
  },
  {
   "cell_type": "code",
   "execution_count": 13,
   "id": "cbfc9e28-3233-4808-b658-36d6f7d18d75",
   "metadata": {},
   "outputs": [],
   "source": [
    "# ---- Adjust the values if needed  ----\n",
    "TDWI_MIN, TDWI_MAX, TDWI_INIT = (0.0, 1.0, 0.30)\n",
    "\n",
    "# ---- Helper for bounded parameters ----\n",
    "class BoundedParameter(torch.nn.Module):\n",
    "    def __init__(self, low, high, init_value):\n",
    "        super().__init__()\n",
    "        self.low = low\n",
    "        self.high = high\n",
    "\n",
    "        # Normalize to [0, 1]\n",
    "        init_norm = (init_value - low) / (high - low)\n",
    "\n",
    "        # Clamp to avoid logit infinities\n",
    "        init_norm = torch.clamp(\n",
    "            torch.tensor(init_norm, dtype=torch.float32),\n",
    "            1e-6, 1 - 1e-6\n",
    "        )\n",
    "\n",
    "        # Parameter in raw logit space\n",
    "        self.raw = torch.nn.Parameter(torch.logit(init_norm))\n",
    "\n",
    "    def forward(self):\n",
    "        return self.low + (self.high - self.low) * torch.sigmoid(self.raw)\n"
   ]
  },
  {
   "cell_type": "code",
   "execution_count": 14,
   "id": "abbc65f8-90f7-4f8f-9ae9-0b10b12cd64b",
   "metadata": {},
   "outputs": [],
   "source": [
    "# ---- Wrap the model with torch.nn.Module----\n",
    "class OptDiffLeafDynamics(torch.nn.Module):\n",
    "    def __init__(self, crop_model_params_provider, weather_data_provider, agro_management_inputs, config_path, external_states):\n",
    "        super().__init__()\n",
    "        self.crop_model_params_provider = crop_model_params_provider\n",
    "        self.weather_data_provider = weather_data_provider\n",
    "        self.agro_management_inputs = agro_management_inputs\n",
    "        self.config_path = config_path\n",
    "        self.external_states = external_states\n",
    "\n",
    "        # bounded parameters\n",
    "        self.tdwi = BoundedParameter(TDWI_MIN, TDWI_MAX, init_value=TDWI_INIT)\n",
    "        \n",
    "    def forward(self):\n",
    "        # currently, copying is needed due to an internal issue in engine\n",
    "        crop_model_params_provider_ = copy.deepcopy(self.crop_model_params_provider)\n",
    "        external_states_ = copy.deepcopy(self.external_states)\n",
    "        \n",
    "        tdwi_val = self.tdwi()\n",
    "        \n",
    "        # pass new value of parameters to the model\n",
    "        crop_model_params_provider_.set_override(\"TDWI\", tdwi_val, check=False)\n",
    "\n",
    "        engine = EngineTestHelper(\n",
    "            crop_model_params_provider_,\n",
    "            self.weather_data_provider,\n",
    "            self.agro_management_inputs,\n",
    "            self.config_path,\n",
    "            external_states_,\n",
    "        )\n",
    "        engine.run_till_terminate()\n",
    "        results = engine.get_output()\n",
    "        \n",
    "        return torch.stack(\n",
    "            [torch.stack([item[\"RD\"], item[\"TWRT\"]]) for item in results]\n",
    "        ).unsqueeze(0) # shape: [1, time_steps, 2]"
   ]
  },
  {
   "cell_type": "code",
   "execution_count": 15,
   "id": "81e3ce01-d888-412e-8370-e091f3790845",
   "metadata": {},
   "outputs": [
    {
     "name": "stdout",
     "output_type": "stream",
     "text": [
      "Step 0, Loss 0.0000, TDWI 0.3214\n",
      "Step 10, Loss 0.0000, TDWI 0.5424\n",
      "Step 20, Loss 0.0000, TDWI 0.4864\n",
      "Step 30, Loss 0.0000, TDWI 0.5227\n",
      "Step 40, Loss 0.0000, TDWI 0.5150\n",
      "Step 50, Loss 0.0000, TDWI 0.5190\n",
      "Step 60, Loss 0.0000, TDWI 0.5109\n",
      "Step 70, Loss 0.0000, TDWI 0.5104\n",
      "Step 80, Loss 0.0000, TDWI 0.5069\n",
      "Step 90, Loss 0.0000, TDWI 0.5055\n",
      "Step 100, Loss 0.0000, TDWI 0.5090\n"
     ]
    }
   ],
   "source": [
    "# ----  Create model ---- \n",
    "opt_model = OptDiffLeafDynamics(\n",
    "    crop_model_params_provider,\n",
    "    weather_data_provider,\n",
    "    agro_management_inputs,\n",
    "    config_path,\n",
    "    external_states,\n",
    ")\n",
    "\n",
    "# ----  Optimizer ---- \n",
    "optimizer = torch.optim.Adam(opt_model.parameters(), lr=0.1)\n",
    "\n",
    "# ----  We use relative MAE as loss because there are two outputs with different untis ----  \n",
    "denom = torch.mean(torch.abs(expected_rd_twrt), dim=1) \n",
    "\n",
    "# Training loop (example)\n",
    "for step in range(101):\n",
    "    optimizer.zero_grad()\n",
    "    results = opt_model() \n",
    "    mae = torch.mean(torch.abs(results - expected_rd_twrt), dim=1)\n",
    "    rmae = mae / denom\n",
    "    loss = rmae.sum()  # example: relative mean absolute error\n",
    "    loss.backward()\n",
    "    optimizer.step()\n",
    "\n",
    "    if step % 10 == 0:\n",
    "        print(f\"Step {step}, Loss {loss.item():.4f}, TDWI {opt_model.tdwi().item():.4f}\")"
   ]
  },
  {
   "cell_type": "code",
   "execution_count": 16,
   "id": "2029e2dd-7460-4c71-85a9-b1030a43167b",
   "metadata": {},
   "outputs": [
    {
     "name": "stdout",
     "output_type": "stream",
     "text": [
      "Actual TDWI 0.5100\n"
     ]
    }
   ],
   "source": [
    "# ---- validate the results using test data ---- \n",
    "print(f\"Actual TDWI {crop_model_params_provider[\"TDWI\"].item():.4f}\")"
   ]
  },
  {
   "cell_type": "code",
   "execution_count": null,
   "id": "a6a511a4-f269-4af4-9f51-2dafa9ba38c0",
   "metadata": {},
   "outputs": [],
   "source": []
  }
 ],
 "metadata": {
  "kernelspec": {
   "display_name": "Python 3 (ipykernel)",
   "language": "python",
   "name": "python3"
  },
  "language_info": {
   "codemirror_mode": {
    "name": "ipython",
    "version": 3
   },
   "file_extension": ".py",
   "mimetype": "text/x-python",
   "name": "python",
   "nbconvert_exporter": "python",
   "pygments_lexer": "ipython3",
   "version": "3.12.11"
  }
 },
 "nbformat": 4,
 "nbformat_minor": 5
}
